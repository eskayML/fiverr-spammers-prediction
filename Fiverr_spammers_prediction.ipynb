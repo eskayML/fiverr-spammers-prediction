{
  "cells": [
    {
      "cell_type": "markdown",
      "metadata": {
        "id": "iUQCyphhItQT"
      },
      "source": [
        "# Downloading Data "
      ]
    },
    {
      "cell_type": "code",
      "execution_count": null,
      "metadata": {
        "colab": {
          "base_uri": "https://localhost:8080/"
        },
        "id": "t8kEYGa4IX9A",
        "outputId": "e4126c5a-d27e-4c28-dd09-feab9431761b"
      },
      "outputs": [
        {
          "output_type": "stream",
          "name": "stdout",
          "text": [
            "mkdir: cannot create directory ‘/root/.kaggle.’: File exists\n"
          ]
        }
      ],
      "source": [
        "! mkdir ~/.kaggle."
      ]
    },
    {
      "cell_type": "code",
      "execution_count": null,
      "metadata": {
        "id": "INiMZcLfIX5V"
      },
      "outputs": [],
      "source": [
        "! cp kaggle.json ~/.kaggle/"
      ]
    },
    {
      "cell_type": "code",
      "execution_count": null,
      "metadata": {
        "id": "pAn2R-rBIcmg"
      },
      "outputs": [],
      "source": [
        "! chmod 600 ~/.kaggle/kaggle.json"
      ]
    },
    {
      "cell_type": "code",
      "execution_count": null,
      "metadata": {
        "colab": {
          "base_uri": "https://localhost:8080/"
        },
        "id": "cDWW5AzaHeyO",
        "outputId": "62ce0707-492f-4243-dac5-a8602e339fc1"
      },
      "outputs": [
        {
          "output_type": "stream",
          "name": "stdout",
          "text": [
            "Downloading predict-potential-spammers-on-fiverr.zip to /content\n",
            "\r  0% 0.00/9.18M [00:00<?, ?B/s]\n",
            "\r100% 9.18M/9.18M [00:00<00:00, 140MB/s]\n"
          ]
        }
      ],
      "source": [
        "!kaggle competitions download -c predict-potential-spammers-on-fiverr"
      ]
    },
    {
      "cell_type": "code",
      "execution_count": null,
      "metadata": {
        "colab": {
          "base_uri": "https://localhost:8080/"
        },
        "id": "luWRNuJmH2FC",
        "outputId": "4e4fba98-5c65-41b7-a19f-a533093a4138"
      },
      "outputs": [
        {
          "output_type": "stream",
          "name": "stdout",
          "text": [
            "Archive:  predict-potential-spammers-on-fiverr.zip\n",
            "  inflating: sample_submission.csv   \n",
            "  inflating: test.csv                \n",
            "  inflating: train.csv               \n"
          ]
        }
      ],
      "source": [
        "!unzip predict-potential-spammers-on-fiverr.zip"
      ]
    },
    {
      "cell_type": "markdown",
      "metadata": {
        "id": "zsDX1sHuIyxs"
      },
      "source": [
        "# Going Through the Data"
      ]
    },
    {
      "cell_type": "code",
      "execution_count": null,
      "metadata": {
        "id": "9ti1trByIq_C"
      },
      "outputs": [],
      "source": [
        "import numpy as np\n",
        "import pandas as pd\n",
        "import matplotlib.pyplot as plt\n",
        "import seaborn as sns\n",
        "%matplotlib inline\n",
        "\n",
        "train = pd.read_csv('train.csv')\n",
        "test  =  pd.read_csv('test.csv')\n",
        "sample_sub  = pd.read_csv('sample_submission.csv')"
      ]
    },
    {
      "cell_type": "code",
      "execution_count": null,
      "metadata": {
        "colab": {
          "base_uri": "https://localhost:8080/"
        },
        "id": "8De1GkmiJKhO",
        "outputId": "91ae8fd9-7f25-4517-e308-a2d011a8e3fa"
      },
      "outputs": [
        {
          "output_type": "execute_result",
          "data": {
            "text/plain": [
              "((458798, 53), (24148, 52), (24148, 2))"
            ]
          },
          "metadata": {},
          "execution_count": 14
        }
      ],
      "source": [
        "train.shape, test.shape, sample_sub.shape"
      ]
    },
    {
      "cell_type": "code",
      "execution_count": null,
      "metadata": {
        "colab": {
          "base_uri": "https://localhost:8080/",
          "height": 300
        },
        "id": "eYWk8GirJKU2",
        "outputId": "8a6979df-365c-45fa-8a17-4f140e6335cd"
      },
      "outputs": [
        {
          "output_type": "execute_result",
          "data": {
            "text/plain": [
              "   label  user_id     X1   X2  X3  X4  X5  X6  X7  X8  ...  X42  X43  X44  \\\n",
              "0      0        1  20972   14  13   3  11   1   2  15  ...    0    0    0   \n",
              "1      0        2   7362  213  71   3  11   1   2  15  ...    0    0    0   \n",
              "2      0        3  21216  215  71   3  11   1   2  15  ...    0    0    0   \n",
              "3      0        4   2261  212  71   2   8   1   2  15  ...    0    0    0   \n",
              "4      0        5   4543  213  71   2   8   1   2  15  ...    0    0    0   \n",
              "\n",
              "   X45  X46  X47  X48  X49  X50  X51  \n",
              "0    0    0    0    0    0    1    0  \n",
              "1    0    0    0    0    0    0    0  \n",
              "2    0    0    0    0    0    0    0  \n",
              "3    0    0    0    0    1    0    0  \n",
              "4    0    0    0    0    0    0    0  \n",
              "\n",
              "[5 rows x 53 columns]"
            ],
            "text/html": [
              "\n",
              "  <div id=\"df-e1c15849-8450-4b8e-9d77-e4977b14c1c2\">\n",
              "    <div class=\"colab-df-container\">\n",
              "      <div>\n",
              "<style scoped>\n",
              "    .dataframe tbody tr th:only-of-type {\n",
              "        vertical-align: middle;\n",
              "    }\n",
              "\n",
              "    .dataframe tbody tr th {\n",
              "        vertical-align: top;\n",
              "    }\n",
              "\n",
              "    .dataframe thead th {\n",
              "        text-align: right;\n",
              "    }\n",
              "</style>\n",
              "<table border=\"1\" class=\"dataframe\">\n",
              "  <thead>\n",
              "    <tr style=\"text-align: right;\">\n",
              "      <th></th>\n",
              "      <th>label</th>\n",
              "      <th>user_id</th>\n",
              "      <th>X1</th>\n",
              "      <th>X2</th>\n",
              "      <th>X3</th>\n",
              "      <th>X4</th>\n",
              "      <th>X5</th>\n",
              "      <th>X6</th>\n",
              "      <th>X7</th>\n",
              "      <th>X8</th>\n",
              "      <th>...</th>\n",
              "      <th>X42</th>\n",
              "      <th>X43</th>\n",
              "      <th>X44</th>\n",
              "      <th>X45</th>\n",
              "      <th>X46</th>\n",
              "      <th>X47</th>\n",
              "      <th>X48</th>\n",
              "      <th>X49</th>\n",
              "      <th>X50</th>\n",
              "      <th>X51</th>\n",
              "    </tr>\n",
              "  </thead>\n",
              "  <tbody>\n",
              "    <tr>\n",
              "      <th>0</th>\n",
              "      <td>0</td>\n",
              "      <td>1</td>\n",
              "      <td>20972</td>\n",
              "      <td>14</td>\n",
              "      <td>13</td>\n",
              "      <td>3</td>\n",
              "      <td>11</td>\n",
              "      <td>1</td>\n",
              "      <td>2</td>\n",
              "      <td>15</td>\n",
              "      <td>...</td>\n",
              "      <td>0</td>\n",
              "      <td>0</td>\n",
              "      <td>0</td>\n",
              "      <td>0</td>\n",
              "      <td>0</td>\n",
              "      <td>0</td>\n",
              "      <td>0</td>\n",
              "      <td>0</td>\n",
              "      <td>1</td>\n",
              "      <td>0</td>\n",
              "    </tr>\n",
              "    <tr>\n",
              "      <th>1</th>\n",
              "      <td>0</td>\n",
              "      <td>2</td>\n",
              "      <td>7362</td>\n",
              "      <td>213</td>\n",
              "      <td>71</td>\n",
              "      <td>3</td>\n",
              "      <td>11</td>\n",
              "      <td>1</td>\n",
              "      <td>2</td>\n",
              "      <td>15</td>\n",
              "      <td>...</td>\n",
              "      <td>0</td>\n",
              "      <td>0</td>\n",
              "      <td>0</td>\n",
              "      <td>0</td>\n",
              "      <td>0</td>\n",
              "      <td>0</td>\n",
              "      <td>0</td>\n",
              "      <td>0</td>\n",
              "      <td>0</td>\n",
              "      <td>0</td>\n",
              "    </tr>\n",
              "    <tr>\n",
              "      <th>2</th>\n",
              "      <td>0</td>\n",
              "      <td>3</td>\n",
              "      <td>21216</td>\n",
              "      <td>215</td>\n",
              "      <td>71</td>\n",
              "      <td>3</td>\n",
              "      <td>11</td>\n",
              "      <td>1</td>\n",
              "      <td>2</td>\n",
              "      <td>15</td>\n",
              "      <td>...</td>\n",
              "      <td>0</td>\n",
              "      <td>0</td>\n",
              "      <td>0</td>\n",
              "      <td>0</td>\n",
              "      <td>0</td>\n",
              "      <td>0</td>\n",
              "      <td>0</td>\n",
              "      <td>0</td>\n",
              "      <td>0</td>\n",
              "      <td>0</td>\n",
              "    </tr>\n",
              "    <tr>\n",
              "      <th>3</th>\n",
              "      <td>0</td>\n",
              "      <td>4</td>\n",
              "      <td>2261</td>\n",
              "      <td>212</td>\n",
              "      <td>71</td>\n",
              "      <td>2</td>\n",
              "      <td>8</td>\n",
              "      <td>1</td>\n",
              "      <td>2</td>\n",
              "      <td>15</td>\n",
              "      <td>...</td>\n",
              "      <td>0</td>\n",
              "      <td>0</td>\n",
              "      <td>0</td>\n",
              "      <td>0</td>\n",
              "      <td>0</td>\n",
              "      <td>0</td>\n",
              "      <td>0</td>\n",
              "      <td>1</td>\n",
              "      <td>0</td>\n",
              "      <td>0</td>\n",
              "    </tr>\n",
              "    <tr>\n",
              "      <th>4</th>\n",
              "      <td>0</td>\n",
              "      <td>5</td>\n",
              "      <td>4543</td>\n",
              "      <td>213</td>\n",
              "      <td>71</td>\n",
              "      <td>2</td>\n",
              "      <td>8</td>\n",
              "      <td>1</td>\n",
              "      <td>2</td>\n",
              "      <td>15</td>\n",
              "      <td>...</td>\n",
              "      <td>0</td>\n",
              "      <td>0</td>\n",
              "      <td>0</td>\n",
              "      <td>0</td>\n",
              "      <td>0</td>\n",
              "      <td>0</td>\n",
              "      <td>0</td>\n",
              "      <td>0</td>\n",
              "      <td>0</td>\n",
              "      <td>0</td>\n",
              "    </tr>\n",
              "  </tbody>\n",
              "</table>\n",
              "<p>5 rows × 53 columns</p>\n",
              "</div>\n",
              "      <button class=\"colab-df-convert\" onclick=\"convertToInteractive('df-e1c15849-8450-4b8e-9d77-e4977b14c1c2')\"\n",
              "              title=\"Convert this dataframe to an interactive table.\"\n",
              "              style=\"display:none;\">\n",
              "        \n",
              "  <svg xmlns=\"http://www.w3.org/2000/svg\" height=\"24px\"viewBox=\"0 0 24 24\"\n",
              "       width=\"24px\">\n",
              "    <path d=\"M0 0h24v24H0V0z\" fill=\"none\"/>\n",
              "    <path d=\"M18.56 5.44l.94 2.06.94-2.06 2.06-.94-2.06-.94-.94-2.06-.94 2.06-2.06.94zm-11 1L8.5 8.5l.94-2.06 2.06-.94-2.06-.94L8.5 2.5l-.94 2.06-2.06.94zm10 10l.94 2.06.94-2.06 2.06-.94-2.06-.94-.94-2.06-.94 2.06-2.06.94z\"/><path d=\"M17.41 7.96l-1.37-1.37c-.4-.4-.92-.59-1.43-.59-.52 0-1.04.2-1.43.59L10.3 9.45l-7.72 7.72c-.78.78-.78 2.05 0 2.83L4 21.41c.39.39.9.59 1.41.59.51 0 1.02-.2 1.41-.59l7.78-7.78 2.81-2.81c.8-.78.8-2.07 0-2.86zM5.41 20L4 18.59l7.72-7.72 1.47 1.35L5.41 20z\"/>\n",
              "  </svg>\n",
              "      </button>\n",
              "      \n",
              "  <style>\n",
              "    .colab-df-container {\n",
              "      display:flex;\n",
              "      flex-wrap:wrap;\n",
              "      gap: 12px;\n",
              "    }\n",
              "\n",
              "    .colab-df-convert {\n",
              "      background-color: #E8F0FE;\n",
              "      border: none;\n",
              "      border-radius: 50%;\n",
              "      cursor: pointer;\n",
              "      display: none;\n",
              "      fill: #1967D2;\n",
              "      height: 32px;\n",
              "      padding: 0 0 0 0;\n",
              "      width: 32px;\n",
              "    }\n",
              "\n",
              "    .colab-df-convert:hover {\n",
              "      background-color: #E2EBFA;\n",
              "      box-shadow: 0px 1px 2px rgba(60, 64, 67, 0.3), 0px 1px 3px 1px rgba(60, 64, 67, 0.15);\n",
              "      fill: #174EA6;\n",
              "    }\n",
              "\n",
              "    [theme=dark] .colab-df-convert {\n",
              "      background-color: #3B4455;\n",
              "      fill: #D2E3FC;\n",
              "    }\n",
              "\n",
              "    [theme=dark] .colab-df-convert:hover {\n",
              "      background-color: #434B5C;\n",
              "      box-shadow: 0px 1px 3px 1px rgba(0, 0, 0, 0.15);\n",
              "      filter: drop-shadow(0px 1px 2px rgba(0, 0, 0, 0.3));\n",
              "      fill: #FFFFFF;\n",
              "    }\n",
              "  </style>\n",
              "\n",
              "      <script>\n",
              "        const buttonEl =\n",
              "          document.querySelector('#df-e1c15849-8450-4b8e-9d77-e4977b14c1c2 button.colab-df-convert');\n",
              "        buttonEl.style.display =\n",
              "          google.colab.kernel.accessAllowed ? 'block' : 'none';\n",
              "\n",
              "        async function convertToInteractive(key) {\n",
              "          const element = document.querySelector('#df-e1c15849-8450-4b8e-9d77-e4977b14c1c2');\n",
              "          const dataTable =\n",
              "            await google.colab.kernel.invokeFunction('convertToInteractive',\n",
              "                                                     [key], {});\n",
              "          if (!dataTable) return;\n",
              "\n",
              "          const docLinkHtml = 'Like what you see? Visit the ' +\n",
              "            '<a target=\"_blank\" href=https://colab.research.google.com/notebooks/data_table.ipynb>data table notebook</a>'\n",
              "            + ' to learn more about interactive tables.';\n",
              "          element.innerHTML = '';\n",
              "          dataTable['output_type'] = 'display_data';\n",
              "          await google.colab.output.renderOutput(dataTable, element);\n",
              "          const docLink = document.createElement('div');\n",
              "          docLink.innerHTML = docLinkHtml;\n",
              "          element.appendChild(docLink);\n",
              "        }\n",
              "      </script>\n",
              "    </div>\n",
              "  </div>\n",
              "  "
            ]
          },
          "metadata": {},
          "execution_count": 15
        }
      ],
      "source": [
        "train.head()"
      ]
    },
    {
      "cell_type": "code",
      "execution_count": null,
      "metadata": {
        "colab": {
          "base_uri": "https://localhost:8080/"
        },
        "id": "KWKCbkEQJdVl",
        "outputId": "99857de5-e1ce-4b6e-90b3-4fff230e2209"
      },
      "outputs": [
        {
          "output_type": "stream",
          "name": "stdout",
          "text": [
            "<class 'pandas.core.frame.DataFrame'>\n",
            "RangeIndex: 458798 entries, 0 to 458797\n",
            "Data columns (total 53 columns):\n",
            " #   Column   Non-Null Count   Dtype  \n",
            "---  ------   --------------   -----  \n",
            " 0   label    458798 non-null  int64  \n",
            " 1   user_id  458798 non-null  int64  \n",
            " 2   X1       458798 non-null  int64  \n",
            " 3   X2       458798 non-null  int64  \n",
            " 4   X3       458798 non-null  int64  \n",
            " 5   X4       458798 non-null  int64  \n",
            " 6   X5       458798 non-null  int64  \n",
            " 7   X6       458798 non-null  int64  \n",
            " 8   X7       458798 non-null  int64  \n",
            " 9   X8       458798 non-null  int64  \n",
            " 10  X9       458798 non-null  int64  \n",
            " 11  X10      458798 non-null  int64  \n",
            " 12  X11      458798 non-null  int64  \n",
            " 13  X12      458798 non-null  int64  \n",
            " 14  X13      458792 non-null  float64\n",
            " 15  X14      458798 non-null  int64  \n",
            " 16  X15      458798 non-null  int64  \n",
            " 17  X16      458798 non-null  int64  \n",
            " 18  X17      458798 non-null  int64  \n",
            " 19  X18      458798 non-null  int64  \n",
            " 20  X19      458798 non-null  int64  \n",
            " 21  X20      458798 non-null  int64  \n",
            " 22  X21      458798 non-null  int64  \n",
            " 23  X22      458798 non-null  int64  \n",
            " 24  X23      458798 non-null  int64  \n",
            " 25  X24      458798 non-null  int64  \n",
            " 26  X25      458798 non-null  int64  \n",
            " 27  X26      458798 non-null  int64  \n",
            " 28  X27      458798 non-null  int64  \n",
            " 29  X28      458798 non-null  int64  \n",
            " 30  X29      458798 non-null  int64  \n",
            " 31  X30      458798 non-null  int64  \n",
            " 32  X31      458798 non-null  int64  \n",
            " 33  X32      458798 non-null  int64  \n",
            " 34  X33      458798 non-null  int64  \n",
            " 35  X34      458798 non-null  int64  \n",
            " 36  X35      458798 non-null  int64  \n",
            " 37  X36      458798 non-null  int64  \n",
            " 38  X37      458798 non-null  int64  \n",
            " 39  X38      458798 non-null  int64  \n",
            " 40  X39      458798 non-null  int64  \n",
            " 41  X40      458798 non-null  int64  \n",
            " 42  X41      458798 non-null  int64  \n",
            " 43  X42      458798 non-null  int64  \n",
            " 44  X43      458798 non-null  int64  \n",
            " 45  X44      458798 non-null  int64  \n",
            " 46  X45      458798 non-null  int64  \n",
            " 47  X46      458798 non-null  int64  \n",
            " 48  X47      458798 non-null  int64  \n",
            " 49  X48      458798 non-null  int64  \n",
            " 50  X49      458798 non-null  int64  \n",
            " 51  X50      458798 non-null  int64  \n",
            " 52  X51      458798 non-null  int64  \n",
            "dtypes: float64(1), int64(52)\n",
            "memory usage: 185.5 MB\n"
          ]
        }
      ],
      "source": [
        "train.info()"
      ]
    },
    {
      "cell_type": "code",
      "execution_count": null,
      "metadata": {
        "colab": {
          "base_uri": "https://localhost:8080/"
        },
        "id": "FmvT1wKuJdSZ",
        "outputId": "8a40af11-cc57-46b1-e283-cae5e28808e0"
      },
      "outputs": [
        {
          "output_type": "execute_result",
          "data": {
            "text/plain": [
              "label      0\n",
              "user_id    0\n",
              "X1         0\n",
              "X2         0\n",
              "X3         0\n",
              "X4         0\n",
              "X5         0\n",
              "X6         0\n",
              "X7         0\n",
              "X8         0\n",
              "X9         0\n",
              "X10        0\n",
              "X11        0\n",
              "X12        0\n",
              "X13        6\n",
              "X14        0\n",
              "X15        0\n",
              "X16        0\n",
              "X17        0\n",
              "X18        0\n",
              "X19        0\n",
              "X20        0\n",
              "X21        0\n",
              "X22        0\n",
              "X23        0\n",
              "X24        0\n",
              "X25        0\n",
              "X26        0\n",
              "X27        0\n",
              "X28        0\n",
              "X29        0\n",
              "X30        0\n",
              "X31        0\n",
              "X32        0\n",
              "X33        0\n",
              "X34        0\n",
              "X35        0\n",
              "X36        0\n",
              "X37        0\n",
              "X38        0\n",
              "X39        0\n",
              "X40        0\n",
              "X41        0\n",
              "X42        0\n",
              "X43        0\n",
              "X44        0\n",
              "X45        0\n",
              "X46        0\n",
              "X47        0\n",
              "X48        0\n",
              "X49        0\n",
              "X50        0\n",
              "X51        0\n",
              "dtype: int64"
            ]
          },
          "metadata": {},
          "execution_count": 17
        }
      ],
      "source": [
        "train.isna().sum()"
      ]
    },
    {
      "cell_type": "code",
      "execution_count": null,
      "metadata": {
        "id": "Nh867FmATWD2"
      },
      "outputs": [],
      "source": [
        "train = train.dropna(axis = 0,how = \"any\")"
      ]
    },
    {
      "cell_type": "code",
      "execution_count": null,
      "metadata": {
        "colab": {
          "base_uri": "https://localhost:8080/",
          "height": 246
        },
        "id": "wNSPzeZiL2r3",
        "outputId": "d740c9cb-7c2d-44e5-e6c4-5191e221410a"
      },
      "outputs": [
        {
          "output_type": "execute_result",
          "data": {
            "text/plain": [
              "<matplotlib.axes._subplots.AxesSubplot at 0x7fe6133d63d0>"
            ]
          },
          "metadata": {},
          "execution_count": 19
        },
        {
          "output_type": "display_data",
          "data": {
            "text/plain": [
              "<Figure size 432x288 with 1 Axes>"
            ],
            "image/png": "[encoded data removed]"
          },
          "metadata": {
            "needs_background": "light"
          }
        }
      ],
      "source": [
        "sns.countplot(data = train, x='label')"
      ]
    },
    {
      "cell_type": "code",
      "execution_count": null,
      "metadata": {
        "colab": {
          "base_uri": "https://localhost:8080/"
        },
        "id": "Hg26_aDNNzag",
        "outputId": "a45fbf50-7cad-4927-9c58-20dafe943952"
      },
      "outputs": [
        {
          "output_type": "execute_result",
          "data": {
            "text/plain": [
              "0    446471\n",
              "1     12321\n",
              "Name: label, dtype: int64"
            ]
          },
          "metadata": {},
          "execution_count": 20
        }
      ],
      "source": [
        "train.label.value_counts()"
      ]
    },
    {
      "cell_type": "code",
      "execution_count": null,
      "metadata": {
        "colab": {
          "base_uri": "https://localhost:8080/"
        },
        "id": "YBzUS3b9Jn1l",
        "outputId": "e7ac959b-0752-45db-fd6c-818630d34547"
      },
      "outputs": [
        {
          "output_type": "execute_result",
          "data": {
            "text/plain": [
              "user_id    0\n",
              "X1         0\n",
              "X2         0\n",
              "X3         0\n",
              "X4         0\n",
              "X5         0\n",
              "X6         0\n",
              "X7         0\n",
              "X8         0\n",
              "X9         0\n",
              "X10        0\n",
              "X11        0\n",
              "X12        0\n",
              "X13        0\n",
              "X14        0\n",
              "X15        0\n",
              "X16        0\n",
              "X17        0\n",
              "X18        0\n",
              "X19        0\n",
              "X20        0\n",
              "X21        0\n",
              "X22        0\n",
              "X23        0\n",
              "X24        0\n",
              "X25        0\n",
              "X26        0\n",
              "X27        0\n",
              "X28        0\n",
              "X29        0\n",
              "X30        0\n",
              "X31        0\n",
              "X32        0\n",
              "X33        0\n",
              "X34        0\n",
              "X35        0\n",
              "X36        0\n",
              "X37        0\n",
              "X38        0\n",
              "X39        0\n",
              "X40        0\n",
              "X41        0\n",
              "X42        0\n",
              "X43        0\n",
              "X44        0\n",
              "X45        0\n",
              "X46        0\n",
              "X47        0\n",
              "X48        0\n",
              "X49        0\n",
              "X50        0\n",
              "X51        0\n",
              "dtype: int64"
            ]
          },
          "metadata": {},
          "execution_count": 21
        }
      ],
      "source": [
        "test.isna().sum()"
      ]
    },
    {
      "cell_type": "code",
      "execution_count": null,
      "metadata": {
        "id": "PtdlzpSfJqnm"
      },
      "outputs": [],
      "source": [
        "from xgboost import XGBClassifier\n",
        "X = train.drop(columns = ['label'])\n",
        "y = train.label\n",
        "\n",
        "# from imblearn.combine import SMOTEENN\n",
        "# smote_enn = SMOTEENN(random_state=0)\n",
        "\n",
        "\n",
        "from imblearn.over_sampling import SMOTE, ADASYN\n",
        "X_resampled, y_resampled = SMOTE().fit_resample(X, y)\n",
        "\n",
        "from sklearn.model_selection import train_test_split\n",
        "X_train, X_val, y_train,y_val = train_test_split(X_resampled,y_resampled,test_size = .1, random_state = 0)\n",
        "\n",
        "\n",
        "from sklearn.metrics import f1_score"
      ]
    },
    {
      "cell_type": "code",
      "execution_count": null,
      "metadata": {
        "colab": {
          "base_uri": "https://localhost:8080/"
        },
        "id": "u39waHbmAeWd",
        "outputId": "990366c0-7be5-47e0-e255-70a98609e7ad"
      },
      "outputs": [
        {
          "output_type": "execute_result",
          "data": {
            "text/plain": [
              "0    446471\n",
              "1    446471\n",
              "Name: label, dtype: int64"
            ]
          },
          "metadata": {},
          "execution_count": 23
        }
      ],
      "source": [
        "y_resampled.value_counts()"
      ]
    },
    {
      "cell_type": "code",
      "execution_count": null,
      "metadata": {
        "colab": {
          "base_uri": "https://localhost:8080/"
        },
        "id": "2kEYuBvLMIEe",
        "outputId": "fccbe67c-2a9c-4122-c571-830f2ec09210"
      },
      "outputs": [
        {
          "output_type": "stream",
          "name": "stdout",
          "text": [
            "0.9256269851208433\n"
          ]
        }
      ],
      "source": [
        "\n",
        "xgb = XGBClassifier(tree_method = 'gpu_hist')\n",
        "xgb.fit(X_train,y_train)\n",
        "xgb_preds = xgb.predict(X_val)\n",
        "print(f1_score(y_val, xgb_preds))"
      ]
    },
    {
      "cell_type": "code",
      "execution_count": null,
      "metadata": {
        "colab": {
          "base_uri": "https://localhost:8080/"
        },
        "id": "TxoeZBExIFyY",
        "outputId": "bb0dac31-caa1-46c2-98c3-f2d033d287e6"
      },
      "outputs": [
        {
          "output_type": "stream",
          "name": "stdout",
          "text": [
            "\u001b[K     |████████████████████████████████| 76.6 MB 1.1 MB/s \n",
            "\u001b[?25h"
          ]
        }
      ],
      "source": [
        "!pip install -q catboost"
      ]
    },
    {
      "cell_type": "code",
      "execution_count": null,
      "metadata": {
        "colab": {
          "base_uri": "https://localhost:8080/"
        },
        "id": "Pq-XQ14CIIvD",
        "outputId": "d2a548d4-9dcd-459d-b3fa-26468620d46f"
      },
      "outputs": [
        {
          "output_type": "stream",
          "name": "stdout",
          "text": [
            "0.9834194441630365\n"
          ]
        }
      ],
      "source": [
        "from catboost import CatBoostClassifier\n",
        "from sklearn.pipeline import make_pipeline\n",
        "from sklearn.preprocessing import StandardScaler,MinMaxScaler \n",
        "\n",
        "cat = CatBoostClassifier(silent  = True)\n",
        "\n",
        "pp = StandardScaler()\n",
        "#9832\n",
        "pipe = make_pipeline(pp, cat)\n",
        "\n",
        "pipe.fit(X_train,y_train)\n",
        "cat_preds = pipe.predict(X_val)\n",
        "print(f1_score(y_val, cat_preds))"
      ]
    },
    {
      "cell_type": "markdown",
      "metadata": {
        "id": "zAdFSH3ED81Q"
      },
      "source": [
        "# Make Submission"
      ]
    },
    {
      "cell_type": "code",
      "execution_count": null,
      "metadata": {
        "colab": {
          "base_uri": "https://localhost:8080/"
        },
        "id": "SRoGZNTPMmSC",
        "outputId": "77b349f5-2bf7-4555-cba3-fc5fe26b8ff5"
      },
      "outputs": [
        {
          "output_type": "stream",
          "name": "stdout",
          "text": [
            "100% 207k/207k [00:02<00:00, 74.6kB/s]\n",
            "400 - Bad Request\n"
          ]
        }
      ],
      "source": [
        "test_predictions = pipe.predict(test)\n",
        "sub_file = sample_sub.copy()\n",
        "sub_file.drop('label', axis = 1, inplace = True)\n",
        "sub_file['prediction'] = test_predictions\n",
        "sub_file.to_csv('submission.csv', index = False)\n",
        "\n",
        "!kaggle competitions submit -c predict-potential-spammers-on-fiverr -f submission.csv -m \"catboost\""
      ]
    },
    {
      "cell_type": "code",
      "execution_count": null,
      "metadata": {
        "id": "QHSLTIKDHJem"
      },
      "outputs": [],
      "source": [
        ""
      ]
    }
  ],
  "metadata": {
    "accelerator": "GPU",
    "colab": {
      "collapsed_sections": [],
      "name": "Fiverr-spammers-prediction.ipynb",
      "provenance": [],
      "authorship_tag": "ABX9TyN+dryceAjj4SH7y6kl1wyO"
    },
    "gpuClass": "standard",
    "kernelspec": {
      "display_name": "Python 3",
      "name": "python3"
    },
    "language_info": {
      "name": "python"
    }
  },
  "nbformat": 4,
  "nbformat_minor": 0
}